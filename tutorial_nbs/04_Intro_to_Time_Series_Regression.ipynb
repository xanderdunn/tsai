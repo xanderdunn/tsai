{
 "cells": [
  {
   "cell_type": "markdown",
   "metadata": {
    "id": "MvzrEpZ3QWLg"
   },
   "source": [
    "<a href=\"https://colab.research.google.com/github/timeseriesAI/tsai/blob/master/tutorial_nbs/04_Intro_to_Time_Series_Regression.ipynb\" target=\"_parent\"><img src=\"https://colab.research.google.com/assets/colab-badge.svg\" alt=\"Open In Colab\"/></a>"
   ]
  },
  {
   "cell_type": "markdown",
   "metadata": {
    "id": "DCkcieAZQWLk"
   },
   "source": [
    "created by Ignacio Oguiza - email: timeseriesAI@gmail.com"
   ]
  },
  {
   "cell_type": "markdown",
   "metadata": {
    "heading_collapsed": true,
    "id": "BtZBNd4oQWLm"
   },
   "source": [
    "## Purpose 😇"
   ]
  },
  {
   "cell_type": "markdown",
   "metadata": {
    "hidden": true,
    "id": "tfwUnHr4QWLp"
   },
   "source": [
    "The purpose of this notebook is to show you how you can create a simple, end-to-end, state-of-the-art **time series regression** model using **`fastai`** and **`tsai`**.\n",
    "\n",
    "A time series regression is a task in which you assign a continuous value to a univariate or multivariate time series. "
   ]
  },
  {
   "cell_type": "markdown",
   "metadata": {
    "heading_collapsed": true,
    "id": "o_gr7-OaQWLr"
   },
   "source": [
    "## Import libraries 📚"
   ]
  },
  {
   "cell_type": "code",
   "execution_count": 1,
   "metadata": {
    "colab": {
     "base_uri": "https://localhost:8080/"
    },
    "hidden": true,
    "id": "3zMNgbRhh_xE",
    "outputId": "ddf92b13-5e9d-48e5-98a8-b139d89c512f"
   },
   "outputs": [
    {
     "name": "stdout",
     "output_type": "stream",
     "text": [
      "\u001b[K     |████████████████████████████████| 194kB 12.1MB/s \n",
      "\u001b[K     |████████████████████████████████| 22.2MB 1.4MB/s \n",
      "\u001b[K     |████████████████████████████████| 5.7MB 53.6MB/s \n",
      "\u001b[K     |████████████████████████████████| 9.5MB 52.3MB/s \n",
      "\u001b[K     |████████████████████████████████| 3.2MB 48.9MB/s \n",
      "\u001b[K     |████████████████████████████████| 2.5MB 48.4MB/s \n",
      "\u001b[K     |████████████████████████████████| 174kB 64.6MB/s \n",
      "\u001b[K     |████████████████████████████████| 901kB 62.1MB/s \n",
      "\u001b[K     |████████████████████████████████| 92kB 13.9MB/s \n",
      "\u001b[K     |████████████████████████████████| 61kB 8.9MB/s \n",
      "\u001b[K     |████████████████████████████████| 25.3MB 119kB/s \n",
      "\u001b[K     |████████████████████████████████| 675kB 46.5MB/s \n",
      "\u001b[K     |████████████████████████████████| 102kB 15.3MB/s \n",
      "\u001b[?25h  Building wheel for tsai (setup.py) ... \u001b[?25l\u001b[?25hdone\n",
      "  Building wheel for contextvars (setup.py) ... \u001b[?25l\u001b[?25hdone\n"
     ]
    }
   ],
   "source": [
    "# ## NOTE: UNCOMMENT AND RUN THIS CELL IF YOU NEED TO INSTALL/ UPGRADE TSAI\n",
    "# stable = False # True: latest version from github, False: stable version in pip\n",
    "# if stable: \n",
    "#     !pip install -Uqq tsai\n",
    "# else:      \n",
    "#     !pip install -Uqq git+https://github.com/timeseriesAI/tsai.git\n",
    "\n",
    "# ## NOTE: REMEMBER TO RESTART YOUR RUNTIME ONCE THE INSTALLATION IS FINISHED"
   ]
  },
  {
   "cell_type": "code",
   "execution_count": 2,
   "metadata": {
    "ExecuteTime": {
     "end_time": "2021-02-11T12:33:10.870397Z",
     "start_time": "2021-02-11T12:32:59.996937Z"
    },
    "colab": {
     "base_uri": "https://localhost:8080/"
    },
    "hidden": true,
    "id": "D57N3WAnh_xK",
    "outputId": "11fe1533-e954-49dc-fa38-f61eeab68e0f"
   },
   "outputs": [
    {
     "name": "stderr",
     "output_type": "stream",
     "text": [
      "/usr/local/lib/python3.6/dist-packages/numba/np/ufunc/parallel.py:363: NumbaWarning: The TBB threading layer requires TBB version 2019.5 or later i.e., TBB_INTERFACE_VERSION >= 11005. Found TBB_INTERFACE_VERSION = 9107. The TBB threading layer is disabled.\n",
      "  warnings.warn(problem)\n"
     ]
    },
    {
     "name": "stdout",
     "output_type": "stream",
     "text": [
      "tsai       : 0.2.15\n",
      "fastai     : 2.2.5\n",
      "fastcore   : 1.3.19\n",
      "torch      : 1.7.0+cu101\n"
     ]
    }
   ],
   "source": [
    "from tsai.all import *\n",
    "print('tsai       :', tsai.__version__)\n",
    "print('fastai     :', fastai.__version__)\n",
    "print('fastcore   :', fastcore.__version__)\n",
    "print('torch      :', torch.__version__)"
   ]
  },
  {
   "cell_type": "markdown",
   "metadata": {
    "heading_collapsed": true,
    "id": "k8ADefUSQWL9"
   },
   "source": [
    "## Prepare data 🔢"
   ]
  },
  {
   "cell_type": "markdown",
   "metadata": {
    "hidden": true,
    "id": "7XNKRI_bpgUN"
   },
   "source": [
    "We are going to select a dataset from the recently released Monash, UEA & UCR \n",
    "Time Series Extrinsic Regression Repository (2020) ([web](http://tseregression.org), [paper](https://arxiv.org/abs/2006.10996)). \n",
    "\n",
    "Please, feel free to select any other dataset to experiment with it. Here's the entire list."
   ]
  },
  {
   "cell_type": "code",
   "execution_count": 72,
   "metadata": {
    "colab": {
     "base_uri": "https://localhost:8080/"
    },
    "hidden": true,
    "id": "2IJxIkciqjW0",
    "outputId": "2bd28ee9-b8d0-4ce8-b5ea-9cc9d371916a"
   },
   "outputs": [
    {
     "data": {
      "text/plain": [
       "['AppliancesEnergy',\n",
       " 'AustraliaRainfall',\n",
       " 'BeijingPM10Quality',\n",
       " 'BeijingPM25Quality',\n",
       " 'BenzeneConcentration',\n",
       " 'Covid3Month',\n",
       " 'FloodModeling1',\n",
       " 'FloodModeling2',\n",
       " 'FloodModeling3',\n",
       " 'HouseholdPowerConsumption1',\n",
       " 'HouseholdPowerConsumption2',\n",
       " 'IEEEPPG',\n",
       " 'LiveFuelMoistureContent',\n",
       " 'NewsHeadlineSentiment',\n",
       " 'NewsTitleSentiment']"
      ]
     },
     "execution_count": 72,
     "metadata": {
      "tags": []
     },
     "output_type": "execute_result"
    }
   ],
   "source": [
    "regression_list"
   ]
  },
  {
   "cell_type": "code",
   "execution_count": 75,
   "metadata": {
    "ExecuteTime": {
     "end_time": "2021-01-11T09:53:09.767600Z",
     "start_time": "2021-01-11T09:53:09.718928Z"
    },
    "colab": {
     "base_uri": "https://localhost:8080/"
    },
    "hidden": true,
    "id": "rMly09DtcKIO",
    "outputId": "54b1799a-f8c7-4cef-d83a-2cc3aea18b02"
   },
   "outputs": [
    {
     "data": {
      "text/plain": [
       "((137, 24, 144),\n",
       " (137,),\n",
       " memmap([19.38, 12.68,  5.34, 12.72, 13.25, 26.28, 13.1 , 14.06, 10.92,\n",
       "         10.46]))"
      ]
     },
     "execution_count": 75,
     "metadata": {
      "tags": []
     },
     "output_type": "execute_result"
    }
   ],
   "source": [
    "dsid = 'AppliancesEnergy' \n",
    "X, y, splits = get_regression_data(dsid, split_data=False)\n",
    "X.shape, y.shape, y[:10]"
   ]
  },
  {
   "cell_type": "markdown",
   "metadata": {
    "hidden": true,
    "id": "oJG0gReXQWMK"
   },
   "source": [
    "For regression tasks, we need to ensure y is a float. Let's check the format of the data:"
   ]
  },
  {
   "cell_type": "code",
   "execution_count": 53,
   "metadata": {
    "ExecuteTime": {
     "end_time": "2021-01-11T09:53:15.804037Z",
     "start_time": "2021-01-11T09:53:15.155901Z"
    },
    "colab": {
     "base_uri": "https://localhost:8080/",
     "height": 143
    },
    "hidden": true,
    "id": "iIA8UVIAh_xa",
    "outputId": "a1101413-0deb-4524-a391-a2d53ad0018b",
    "scrolled": true
   },
   "outputs": [
    {
     "name": "stdout",
     "output_type": "stream",
     "text": [
      "X      - shape: [137 samples x 24 features x 144 timesteps]  type: memmap  dtype:float32  isnan: 0\n",
      "y      - shape: (137,)  type: memmap  dtype:float64  isnan: 0\n",
      "splits - n_splits: 2 shape: [95, 42]  overlap: [False]\n"
     ]
    },
    {
     "data": {
      "image/png": "[encoded data removed]",
      "text/plain": [
       "<Figure size 1152x36 with 1 Axes>"
      ]
     },
     "metadata": {
      "needs_background": "light",
      "tags": []
     },
     "output_type": "display_data"
    }
   ],
   "source": [
    "check_data(X, y, splits)"
   ]
  },
  {
   "cell_type": "code",
   "execution_count": 55,
   "metadata": {
    "ExecuteTime": {
     "end_time": "2021-01-11T09:54:15.266344Z",
     "start_time": "2021-01-11T09:54:15.013041Z"
    },
    "colab": {
     "base_uri": "https://localhost:8080/"
    },
    "hidden": true,
    "id": "SdF8OWgSczv3",
    "outputId": "86f447f0-5540-4956-cddc-8df5a0619ac3"
   },
   "outputs": [
    {
     "data": {
      "text/plain": [
       "(TSTensor(samples:95, vars:24, len:144),\n",
       " tensor([10.8000, 10.5100, 13.5600, 21.6900, 16.5300, 16.2500, 11.0600, 11.6400,\n",
       "         10.2600, 11.3200, 16.7700,  8.7500, 15.6800, 11.8300, 10.8200, 11.5400,\n",
       "         17.3000, 22.7400, 11.9200, 14.9900, 21.9100, 16.0200, 11.4900, 11.9300,\n",
       "         23.4200, 19.0100, 13.3700, 10.9200, 10.1100, 17.0000, 13.6900,  8.6200,\n",
       "         19.3800, 17.5300, 11.2300, 14.0600, 18.5600, 12.0700, 20.4400, 10.5100,\n",
       "         10.3100,  9.6300, 19.2200, 12.7200, 16.2200, 10.8900, 21.4900, 21.7400,\n",
       "         14.2800, 12.0300,  5.3400, 11.5300, 14.6100, 10.6100, 17.6600, 14.7100,\n",
       "         16.0500, 26.2800, 12.7800, 13.2900, 14.6200, 10.2500, 10.1700, 13.1000,\n",
       "         18.1800, 21.3100, 12.6800, 12.9800,  9.6000, 12.2400, 13.8700, 19.6200,\n",
       "         15.8900, 12.5400, 10.4600, 10.6200, 20.7400, 13.2500, 12.6800,  7.0300,\n",
       "         23.0100, 12.9700, 11.6300, 11.4000, 10.6300,  9.9900, 16.4100,  5.3800,\n",
       "         14.8200, 19.9400, 13.2100, 22.1000,  9.8200, 14.8000,  9.1700],\n",
       "        device='cuda:0'))"
      ]
     },
     "execution_count": 55,
     "metadata": {
      "tags": []
     },
     "output_type": "execute_result"
    }
   ],
   "source": [
    "tfms  = [None, [TSRegression()]]\n",
    "batch_tfms = TSStandardize(by_sample=True, by_var=True)\n",
    "dls = get_ts_dls(X, y, splits=splits, tfms=tfms, batch_tfms=batch_tfms, bs=128)\n",
    "dls.one_batch()"
   ]
  },
  {
   "cell_type": "markdown",
   "metadata": {
    "hidden": true,
    "id": "kOwJlphtQWMY"
   },
   "source": [
    "`TSDatasets` identifies this as a regression problem, as the 2nd output (the ys) are floats. That's why the number of classes is set to 1. This is required to be able to correctly use the time series models available in `timesereisAI`."
   ]
  },
  {
   "cell_type": "code",
   "execution_count": 7,
   "metadata": {
    "ExecuteTime": {
     "end_time": "2021-01-11T09:54:19.223176Z",
     "start_time": "2021-01-11T09:54:19.212268Z"
    },
    "colab": {
     "base_uri": "https://localhost:8080/"
    },
    "hidden": true,
    "id": "Oq-dVeF8QWMa",
    "outputId": "70a1c3a4-0f34-4780-f9a6-7aad63ac5bc4"
   },
   "outputs": [
    {
     "data": {
      "text/plain": [
       "1"
      ]
     },
     "execution_count": 7,
     "metadata": {
      "tags": []
     },
     "output_type": "execute_result"
    }
   ],
   "source": [
    "dls.c"
   ]
  },
  {
   "cell_type": "code",
   "execution_count": 47,
   "metadata": {
    "ExecuteTime": {
     "end_time": "2021-01-11T09:10:11.876403Z",
     "start_time": "2021-01-11T09:10:04.860887Z"
    },
    "colab": {
     "base_uri": "https://localhost:8080/",
     "height": 873
    },
    "hidden": true,
    "id": "gslPk-G2dCoo",
    "outputId": "4cd1b9f1-1ed8-4644-f25a-b1d107ef8d8d"
   },
   "outputs": [
    {
     "data": {
      "image/png": "[encoded data removed]",
      "text/plain": [
       "<Figure size 1296x864 with 9 Axes>"
      ]
     },
     "metadata": {
      "needs_background": "light",
      "tags": []
     },
     "output_type": "display_data"
    }
   ],
   "source": [
    "dls.show_batch()"
   ]
  },
  {
   "cell_type": "markdown",
   "metadata": {
    "heading_collapsed": true,
    "id": "e_nvn83DQWMx"
   },
   "source": [
    "## Build learner 🏗"
   ]
  },
  {
   "cell_type": "markdown",
   "metadata": {
    "hidden": true,
    "id": "uJQw37SRQWM0"
   },
   "source": [
    "* Model: we can choose any of the time series models available in `timeseriesAI`. The same ones that work for classification also work for regression. In this case we'll use a state-of-the-art time series model called ` InceptionTime`.\n",
    "* Loss: since this is a regression problem, we''l use a regression loss (`MSELossFlat`). However, there's not need to pass it to the Learner, as it will automatically infer the required loss.\n",
    "* Metrics: we'll also choose regression metrics. (`mse` will return the same result as the loss we have selected. Just added it for demo purposes)."
   ]
  },
  {
   "cell_type": "code",
   "execution_count": 69,
   "metadata": {
    "ExecuteTime": {
     "end_time": "2021-01-11T09:54:25.976722Z",
     "start_time": "2021-01-11T09:54:25.919834Z"
    },
    "hidden": true,
    "id": "tnqjCZmVQWM2"
   },
   "outputs": [],
   "source": [
    "learn = ts_learner(dls, InceptionTime, metrics=[mae, rmse], cbs=ShowGraph())"
   ]
  },
  {
   "cell_type": "code",
   "execution_count": 10,
   "metadata": {
    "colab": {
     "base_uri": "https://localhost:8080/",
     "height": 300
    },
    "hidden": true,
    "id": "Z36yx5BWP-t_",
    "outputId": "deb3b624-4fee-4cb6-8b57-61363c8f5310"
   },
   "outputs": [
    {
     "data": {
      "text/html": [],
      "text/plain": [
       "<IPython.core.display.HTML object>"
      ]
     },
     "metadata": {
      "tags": []
     },
     "output_type": "display_data"
    },
    {
     "data": {
      "text/plain": [
       "SuggestedLRs(lr_min=0.33113112449646, lr_steep=0.015848932787775993)"
      ]
     },
     "execution_count": 10,
     "metadata": {
      "tags": []
     },
     "output_type": "execute_result"
    },
    {
     "data": {
      "image/png": "[encoded data removed]",
      "text/plain": [
       "<Figure size 432x288 with 1 Axes>"
      ]
     },
     "metadata": {
      "needs_background": "light",
      "tags": []
     },
     "output_type": "display_data"
    }
   ],
   "source": [
    "learn.lr_find()"
   ]
  },
  {
   "cell_type": "markdown",
   "metadata": {
    "hidden": true,
    "id": "ssAvNcMmnU1U"
   },
   "source": [
    "It seems we can use a lr around 1e-2. Let's try it."
   ]
  },
  {
   "cell_type": "code",
   "execution_count": 11,
   "metadata": {
    "colab": {
     "base_uri": "https://localhost:8080/"
    },
    "hidden": true,
    "id": "eNmLuev2Truw",
    "outputId": "57b59bb8-5fb7-4a4e-9ea4-005ff57d0b22"
   },
   "outputs": [
    {
     "data": {
      "text/plain": [
       "FlattenedLoss of MSELoss()"
      ]
     },
     "execution_count": 11,
     "metadata": {
      "tags": []
     },
     "output_type": "execute_result"
    }
   ],
   "source": [
    "learn.loss_func"
   ]
  },
  {
   "cell_type": "markdown",
   "metadata": {
    "heading_collapsed": true,
    "id": "CMFdxbo2QWM_"
   },
   "source": [
    "## Train model 🚵🏼‍"
   ]
  },
  {
   "cell_type": "code",
   "execution_count": 70,
   "metadata": {
    "colab": {
     "base_uri": "https://localhost:8080/",
     "height": 1000
    },
    "hidden": true,
    "id": "-NbdzYWrpIMk",
    "outputId": "797e2b42-f496-4cf6-c691-6c4ec153f896"
   },
   "outputs": [
    {
     "data": {
      "text/html": [
       "<table border=\"1\" class=\"dataframe\">\n",
       "  <thead>\n",
       "    <tr style=\"text-align: left;\">\n",
       "      <th>epoch</th>\n",
       "      <th>train_loss</th>\n",
       "      <th>valid_loss</th>\n",
       "      <th>mae</th>\n",
       "      <th>_rmse</th>\n",
       "      <th>time</th>\n",
       "    </tr>\n",
       "  </thead>\n",
       "  <tbody>\n",
       "    <tr>\n",
       "      <td>0</td>\n",
       "      <td>215.656952</td>\n",
       "      <td>201.253830</td>\n",
       "      <td>13.761556</td>\n",
       "      <td>14.186396</td>\n",
       "      <td>00:00</td>\n",
       "    </tr>\n",
       "    <tr>\n",
       "      <td>1</td>\n",
       "      <td>212.435745</td>\n",
       "      <td>200.603119</td>\n",
       "      <td>13.737971</td>\n",
       "      <td>14.163443</td>\n",
       "      <td>00:00</td>\n",
       "    </tr>\n",
       "    <tr>\n",
       "      <td>2</td>\n",
       "      <td>209.185425</td>\n",
       "      <td>199.412476</td>\n",
       "      <td>13.694796</td>\n",
       "      <td>14.121349</td>\n",
       "      <td>00:00</td>\n",
       "    </tr>\n",
       "    <tr>\n",
       "      <td>3</td>\n",
       "      <td>205.469543</td>\n",
       "      <td>197.062546</td>\n",
       "      <td>13.609804</td>\n",
       "      <td>14.037897</td>\n",
       "      <td>00:00</td>\n",
       "    </tr>\n",
       "    <tr>\n",
       "      <td>4</td>\n",
       "      <td>201.237244</td>\n",
       "      <td>192.295303</td>\n",
       "      <td>13.439395</td>\n",
       "      <td>13.867058</td>\n",
       "      <td>00:00</td>\n",
       "    </tr>\n",
       "    <tr>\n",
       "      <td>5</td>\n",
       "      <td>196.540054</td>\n",
       "      <td>175.117630</td>\n",
       "      <td>12.800197</td>\n",
       "      <td>13.233201</td>\n",
       "      <td>00:00</td>\n",
       "    </tr>\n",
       "    <tr>\n",
       "      <td>6</td>\n",
       "      <td>191.528732</td>\n",
       "      <td>154.812775</td>\n",
       "      <td>12.006873</td>\n",
       "      <td>12.442377</td>\n",
       "      <td>00:00</td>\n",
       "    </tr>\n",
       "    <tr>\n",
       "      <td>7</td>\n",
       "      <td>186.437943</td>\n",
       "      <td>87.304169</td>\n",
       "      <td>8.897139</td>\n",
       "      <td>9.343671</td>\n",
       "      <td>00:00</td>\n",
       "    </tr>\n",
       "    <tr>\n",
       "      <td>8</td>\n",
       "      <td>180.661697</td>\n",
       "      <td>53.759312</td>\n",
       "      <td>6.736266</td>\n",
       "      <td>7.332074</td>\n",
       "      <td>00:00</td>\n",
       "    </tr>\n",
       "    <tr>\n",
       "      <td>9</td>\n",
       "      <td>174.402740</td>\n",
       "      <td>50.164062</td>\n",
       "      <td>6.402376</td>\n",
       "      <td>7.082659</td>\n",
       "      <td>00:00</td>\n",
       "    </tr>\n",
       "    <tr>\n",
       "      <td>10</td>\n",
       "      <td>167.661484</td>\n",
       "      <td>49.469879</td>\n",
       "      <td>6.425678</td>\n",
       "      <td>7.033483</td>\n",
       "      <td>00:00</td>\n",
       "    </tr>\n",
       "    <tr>\n",
       "      <td>11</td>\n",
       "      <td>160.589844</td>\n",
       "      <td>93.526329</td>\n",
       "      <td>9.178732</td>\n",
       "      <td>9.670901</td>\n",
       "      <td>00:00</td>\n",
       "    </tr>\n",
       "    <tr>\n",
       "      <td>12</td>\n",
       "      <td>153.140427</td>\n",
       "      <td>30.641602</td>\n",
       "      <td>4.387874</td>\n",
       "      <td>5.535486</td>\n",
       "      <td>00:00</td>\n",
       "    </tr>\n",
       "    <tr>\n",
       "      <td>13</td>\n",
       "      <td>145.519745</td>\n",
       "      <td>50.672661</td>\n",
       "      <td>6.384998</td>\n",
       "      <td>7.118473</td>\n",
       "      <td>00:00</td>\n",
       "    </tr>\n",
       "    <tr>\n",
       "      <td>14</td>\n",
       "      <td>137.971451</td>\n",
       "      <td>71.498276</td>\n",
       "      <td>7.647891</td>\n",
       "      <td>8.455665</td>\n",
       "      <td>00:00</td>\n",
       "    </tr>\n",
       "    <tr>\n",
       "      <td>15</td>\n",
       "      <td>130.532394</td>\n",
       "      <td>27.063389</td>\n",
       "      <td>4.310081</td>\n",
       "      <td>5.202249</td>\n",
       "      <td>00:00</td>\n",
       "    </tr>\n",
       "    <tr>\n",
       "      <td>16</td>\n",
       "      <td>123.136887</td>\n",
       "      <td>16.091335</td>\n",
       "      <td>3.449427</td>\n",
       "      <td>4.011401</td>\n",
       "      <td>00:00</td>\n",
       "    </tr>\n",
       "    <tr>\n",
       "      <td>17</td>\n",
       "      <td>115.966492</td>\n",
       "      <td>16.751902</td>\n",
       "      <td>3.491521</td>\n",
       "      <td>4.092909</td>\n",
       "      <td>00:00</td>\n",
       "    </tr>\n",
       "    <tr>\n",
       "      <td>18</td>\n",
       "      <td>109.195335</td>\n",
       "      <td>10.123674</td>\n",
       "      <td>2.239692</td>\n",
       "      <td>3.181772</td>\n",
       "      <td>00:00</td>\n",
       "    </tr>\n",
       "    <tr>\n",
       "      <td>19</td>\n",
       "      <td>102.846405</td>\n",
       "      <td>10.906264</td>\n",
       "      <td>2.219566</td>\n",
       "      <td>3.302463</td>\n",
       "      <td>00:00</td>\n",
       "    </tr>\n",
       "    <tr>\n",
       "      <td>20</td>\n",
       "      <td>96.971939</td>\n",
       "      <td>12.409090</td>\n",
       "      <td>2.349926</td>\n",
       "      <td>3.522654</td>\n",
       "      <td>00:00</td>\n",
       "    </tr>\n",
       "    <tr>\n",
       "      <td>21</td>\n",
       "      <td>91.591721</td>\n",
       "      <td>11.880401</td>\n",
       "      <td>2.361830</td>\n",
       "      <td>3.446795</td>\n",
       "      <td>00:00</td>\n",
       "    </tr>\n",
       "    <tr>\n",
       "      <td>22</td>\n",
       "      <td>86.709335</td>\n",
       "      <td>11.551998</td>\n",
       "      <td>2.488790</td>\n",
       "      <td>3.398823</td>\n",
       "      <td>00:00</td>\n",
       "    </tr>\n",
       "    <tr>\n",
       "      <td>23</td>\n",
       "      <td>82.290245</td>\n",
       "      <td>14.446730</td>\n",
       "      <td>2.821019</td>\n",
       "      <td>3.800885</td>\n",
       "      <td>00:00</td>\n",
       "    </tr>\n",
       "    <tr>\n",
       "      <td>24</td>\n",
       "      <td>78.288033</td>\n",
       "      <td>18.939026</td>\n",
       "      <td>3.147369</td>\n",
       "      <td>4.351899</td>\n",
       "      <td>00:00</td>\n",
       "    </tr>\n",
       "    <tr>\n",
       "      <td>25</td>\n",
       "      <td>74.632507</td>\n",
       "      <td>23.330952</td>\n",
       "      <td>3.419462</td>\n",
       "      <td>4.830212</td>\n",
       "      <td>00:00</td>\n",
       "    </tr>\n",
       "    <tr>\n",
       "      <td>26</td>\n",
       "      <td>71.263290</td>\n",
       "      <td>24.971737</td>\n",
       "      <td>3.378895</td>\n",
       "      <td>4.997173</td>\n",
       "      <td>00:00</td>\n",
       "    </tr>\n",
       "    <tr>\n",
       "      <td>27</td>\n",
       "      <td>68.119522</td>\n",
       "      <td>23.841228</td>\n",
       "      <td>3.041363</td>\n",
       "      <td>4.882748</td>\n",
       "      <td>00:00</td>\n",
       "    </tr>\n",
       "    <tr>\n",
       "      <td>28</td>\n",
       "      <td>65.147217</td>\n",
       "      <td>20.596865</td>\n",
       "      <td>2.842328</td>\n",
       "      <td>4.538377</td>\n",
       "      <td>00:00</td>\n",
       "    </tr>\n",
       "    <tr>\n",
       "      <td>29</td>\n",
       "      <td>62.332027</td>\n",
       "      <td>16.165386</td>\n",
       "      <td>2.760864</td>\n",
       "      <td>4.020620</td>\n",
       "      <td>00:00</td>\n",
       "    </tr>\n",
       "    <tr>\n",
       "      <td>30</td>\n",
       "      <td>59.698021</td>\n",
       "      <td>13.502782</td>\n",
       "      <td>2.637997</td>\n",
       "      <td>3.674613</td>\n",
       "      <td>00:00</td>\n",
       "    </tr>\n",
       "    <tr>\n",
       "      <td>31</td>\n",
       "      <td>57.238224</td>\n",
       "      <td>11.851141</td>\n",
       "      <td>2.486399</td>\n",
       "      <td>3.442549</td>\n",
       "      <td>00:00</td>\n",
       "    </tr>\n",
       "    <tr>\n",
       "      <td>32</td>\n",
       "      <td>54.924572</td>\n",
       "      <td>10.424255</td>\n",
       "      <td>2.328825</td>\n",
       "      <td>3.228662</td>\n",
       "      <td>00:00</td>\n",
       "    </tr>\n",
       "    <tr>\n",
       "      <td>33</td>\n",
       "      <td>52.739586</td>\n",
       "      <td>9.127655</td>\n",
       "      <td>2.180702</td>\n",
       "      <td>3.021201</td>\n",
       "      <td>00:00</td>\n",
       "    </tr>\n",
       "    <tr>\n",
       "      <td>34</td>\n",
       "      <td>50.676765</td>\n",
       "      <td>8.122301</td>\n",
       "      <td>2.056635</td>\n",
       "      <td>2.849965</td>\n",
       "      <td>00:00</td>\n",
       "    </tr>\n",
       "    <tr>\n",
       "      <td>35</td>\n",
       "      <td>48.731171</td>\n",
       "      <td>7.503537</td>\n",
       "      <td>1.986445</td>\n",
       "      <td>2.739258</td>\n",
       "      <td>00:00</td>\n",
       "    </tr>\n",
       "    <tr>\n",
       "      <td>36</td>\n",
       "      <td>46.895882</td>\n",
       "      <td>7.158261</td>\n",
       "      <td>1.961313</td>\n",
       "      <td>2.675493</td>\n",
       "      <td>00:00</td>\n",
       "    </tr>\n",
       "    <tr>\n",
       "      <td>37</td>\n",
       "      <td>45.162571</td>\n",
       "      <td>6.933650</td>\n",
       "      <td>1.950794</td>\n",
       "      <td>2.633183</td>\n",
       "      <td>00:00</td>\n",
       "    </tr>\n",
       "    <tr>\n",
       "      <td>38</td>\n",
       "      <td>43.522369</td>\n",
       "      <td>6.747604</td>\n",
       "      <td>1.932616</td>\n",
       "      <td>2.597615</td>\n",
       "      <td>00:00</td>\n",
       "    </tr>\n",
       "    <tr>\n",
       "      <td>39</td>\n",
       "      <td>41.966969</td>\n",
       "      <td>6.579259</td>\n",
       "      <td>1.906488</td>\n",
       "      <td>2.565006</td>\n",
       "      <td>00:00</td>\n",
       "    </tr>\n",
       "    <tr>\n",
       "      <td>40</td>\n",
       "      <td>40.489372</td>\n",
       "      <td>6.427872</td>\n",
       "      <td>1.876634</td>\n",
       "      <td>2.535325</td>\n",
       "      <td>00:00</td>\n",
       "    </tr>\n",
       "    <tr>\n",
       "      <td>41</td>\n",
       "      <td>39.083889</td>\n",
       "      <td>6.296453</td>\n",
       "      <td>1.857983</td>\n",
       "      <td>2.509274</td>\n",
       "      <td>00:00</td>\n",
       "    </tr>\n",
       "    <tr>\n",
       "      <td>42</td>\n",
       "      <td>37.745770</td>\n",
       "      <td>6.184892</td>\n",
       "      <td>1.842824</td>\n",
       "      <td>2.486944</td>\n",
       "      <td>00:00</td>\n",
       "    </tr>\n",
       "    <tr>\n",
       "      <td>43</td>\n",
       "      <td>36.470840</td>\n",
       "      <td>6.090933</td>\n",
       "      <td>1.829193</td>\n",
       "      <td>2.467982</td>\n",
       "      <td>00:00</td>\n",
       "    </tr>\n",
       "    <tr>\n",
       "      <td>44</td>\n",
       "      <td>35.255287</td>\n",
       "      <td>6.012029</td>\n",
       "      <td>1.817611</td>\n",
       "      <td>2.451944</td>\n",
       "      <td>00:00</td>\n",
       "    </tr>\n",
       "    <tr>\n",
       "      <td>45</td>\n",
       "      <td>34.095505</td>\n",
       "      <td>5.946193</td>\n",
       "      <td>1.808122</td>\n",
       "      <td>2.438482</td>\n",
       "      <td>00:00</td>\n",
       "    </tr>\n",
       "    <tr>\n",
       "      <td>46</td>\n",
       "      <td>32.988129</td>\n",
       "      <td>5.890937</td>\n",
       "      <td>1.803819</td>\n",
       "      <td>2.427125</td>\n",
       "      <td>00:00</td>\n",
       "    </tr>\n",
       "    <tr>\n",
       "      <td>47</td>\n",
       "      <td>31.930006</td>\n",
       "      <td>5.844101</td>\n",
       "      <td>1.801273</td>\n",
       "      <td>2.417458</td>\n",
       "      <td>00:00</td>\n",
       "    </tr>\n",
       "    <tr>\n",
       "      <td>48</td>\n",
       "      <td>30.918200</td>\n",
       "      <td>5.804751</td>\n",
       "      <td>1.798874</td>\n",
       "      <td>2.409305</td>\n",
       "      <td>00:00</td>\n",
       "    </tr>\n",
       "    <tr>\n",
       "      <td>49</td>\n",
       "      <td>29.949989</td>\n",
       "      <td>5.771885</td>\n",
       "      <td>1.796530</td>\n",
       "      <td>2.402475</td>\n",
       "      <td>00:00</td>\n",
       "    </tr>\n",
       "  </tbody>\n",
       "</table>"
      ],
      "text/plain": [
       "<IPython.core.display.HTML object>"
      ]
     },
     "metadata": {
      "tags": []
     },
     "output_type": "display_data"
    },
    {
     "data": {
      "image/png": "[encoded data removed]",
      "text/plain": [
       "<Figure size 432x288 with 1 Axes>"
      ]
     },
     "metadata": {
      "tags": []
     },
     "output_type": "display_data"
    }
   ],
   "source": [
    "learn.fit_one_cycle(50, 1e-2)"
   ]
  },
  {
   "cell_type": "markdown",
   "metadata": {
    "heading_collapsed": true,
    "id": "UWfZaC885uEX"
   },
   "source": [
    "## Predictions ⎘"
   ]
  },
  {
   "cell_type": "code",
   "execution_count": 71,
   "metadata": {
    "colab": {
     "base_uri": "https://localhost:8080/",
     "height": 225
    },
    "hidden": true,
    "id": "sJS8dHb64645",
    "outputId": "dde0aed5-7863-4d6c-8dd7-dd6e9347daac"
   },
   "outputs": [
    {
     "data": {
      "text/html": [],
      "text/plain": [
       "<IPython.core.display.HTML object>"
      ]
     },
     "metadata": {
      "tags": []
     },
     "output_type": "display_data"
    },
    {
     "data": {
      "text/plain": [
       "(tensor([15.0003, 15.1002, 11.1401,  9.3675, 12.7470, 13.3199, 19.7613, 13.3840,\n",
       "         15.1831, 16.8271, 23.3448, 12.4885, 10.2032,  9.2419, 14.4385, 20.1090,\n",
       "         14.2460, 12.2884, 11.6636, 13.6402, 12.5171, 17.8224, 12.6298,  9.4024,\n",
       "         12.9872, 10.9085, 12.2852, 13.0340, 10.7474, 14.3865, 19.6082, 13.0848,\n",
       "         13.7639, 14.7479, 12.3958, 12.6425,  9.4421, 15.2007, 17.6228, 10.3488,\n",
       "         11.2633, 11.7312]),\n",
       " tensor([17.3700, 20.6500, 11.4200, 10.6800, 12.4400, 11.1700, 24.1200, 10.9900,\n",
       "         13.7600, 14.5600, 14.9700, 13.4300, 11.5700,  9.3300, 15.5800, 20.9300,\n",
       "         11.9900, 15.3700, 10.4700, 14.4100, 10.1600, 15.1200, 12.3200, 10.4600,\n",
       "         15.0600,  9.6800, 10.6900, 17.8000, 10.6900, 17.0600, 20.8800, 10.8900,\n",
       "         13.4700, 13.6200, 13.4800, 14.8900, 10.6000, 15.5900, 17.8900, 12.9500,\n",
       "         10.1200, 12.1400]))"
      ]
     },
     "execution_count": 71,
     "metadata": {
      "tags": []
     },
     "output_type": "execute_result"
    }
   ],
   "source": [
    "valid_preds, valid_targets = learn.get_preds(ds_idx=1)\n",
    "valid_preds.flatten().data, valid_targets.data"
   ]
  },
  {
   "cell_type": "markdown",
   "metadata": {
    "heading_collapsed": true,
    "id": "P-6BJyVjW4YT"
   },
   "source": [
    "## Summary ✅"
   ]
  },
  {
   "cell_type": "markdown",
   "metadata": {
    "hidden": true,
    "id": "jGQX_0CwQWNU"
   },
   "source": [
    "As you can see, to use fastai and timeseriesAI to perform a time series regression/ forecasting task is pretty easy. The only thing you need to make sure is that:\n",
    "\n",
    "* Your data is correctly prepared (with ys as floats)\n",
    "* Select the right metrics (Learner will automatically select the right loss, unless you want to pass a specific one yourself)."
   ]
  }
 ],
 "metadata": {
  "_draft": {
   "nbviewer_url": "https://gist.github.com/c8bf713ea8eb29104f0b9e5d64fe43f0"
  },
  "accelerator": "GPU",
  "colab": {
   "name": "04_Intro_to_Time_Series_Regression.ipynb",
   "provenance": []
  },
  "gist": {
   "data": {
    "description": "Time Series Regression.ipynb",
    "public": false
   },
   "id": "c8bf713ea8eb29104f0b9e5d64fe43f0"
  },
  "kernelspec": {
   "display_name": "Python 3",
   "language": "python",
   "name": "python3"
  },
  "language_info": {
   "codemirror_mode": {
    "name": "ipython",
    "version": 3
   },
   "file_extension": ".py",
   "mimetype": "text/x-python",
   "name": "python",
   "nbconvert_exporter": "python",
   "pygments_lexer": "ipython3",
   "version": "3.7.6"
  },
  "toc": {
   "base_numbering": 1,
   "nav_menu": {},
   "number_sections": true,
   "sideBar": true,
   "skip_h1_title": false,
   "title_cell": "Table of Contents",
   "title_sidebar": "Contents",
   "toc_cell": false,
   "toc_position": {},
   "toc_section_display": true,
   "toc_window_display": false
  }
 },
 "nbformat": 4,
 "nbformat_minor": 1
}
